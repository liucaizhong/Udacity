{
 "cells": [
  {
   "cell_type": "markdown",
   "metadata": {},
   "source": [
    "# 机器学习工程师纳米学位\n",
    "## 模型评价与验证\n",
    "## 项目 1: 预测波士顿房价\n",
    "\n",
    "\n",
    "欢迎来到机器学习工程师纳米学位的第一个项目！在此文件中，有些示例代码已经提供给你，但你还需要实现更多的功能来让项目成功运行。除非有明确要求，你无须修改任何已给出的代码。以**编程练习**开始的标题表示接下来的内容中有需要你必须实现的功能。每一部分都会有详细的指导，需要实现的部分也会在注释中以**TODO**标出。请仔细阅读所有的提示！\n",
    "\n",
    "除了实现代码外，你还**必须**回答一些与项目和实现有关的问题。每一个需要你回答的问题都会以**'问题 X'**为标题。请仔细阅读每个问题，并且在问题后的**'回答'**文字框中写出完整的答案。你的项目将会根据你对问题的回答和撰写代码所实现的功能来进行评分。\n",
    "\n",
    ">**提示：**Code 和 Markdown 区域可通过 **Shift + Enter** 快捷键运行。此外，Markdown可以通过双击进入编辑模式。"
   ]
  },
  {
   "cell_type": "markdown",
   "metadata": {},
   "source": [
    "---\n",
    "## 第一步. 导入数据\n",
    "在这个项目中，你将利用马萨诸塞州波士顿郊区的房屋信息数据训练和测试一个模型，并对模型的性能和预测能力进行测试。通过该数据训练后的好的模型可以被用来对房屋做特定预测---尤其是对房屋的价值。对于房地产经纪等人的日常工作来说，这样的预测模型被证明非常有价值。\n",
    "\n",
    "此项目的数据集来自[UCI机器学习知识库(数据集已下线)](https://archive.ics.uci.edu/ml/datasets.html)。波士顿房屋这些数据于1978年开始统计，共506个数据点，涵盖了麻省波士顿不同郊区房屋14种特征的信息。本项目对原始数据集做了以下处理：\n",
    "- 有16个`'MEDV'` 值为50.0的数据点被移除。 这很可能是由于这些数据点包含**遗失**或**看不到的值**。\n",
    "- 有1个数据点的 `'RM'` 值为8.78. 这是一个异常值，已经被移除。\n",
    "- 对于本项目，房屋的`'RM'`， `'LSTAT'`，`'PTRATIO'`以及`'MEDV'`特征是必要的，其余不相关特征已经被移除。\n",
    "- `'MEDV'`特征的值已经过必要的数学转换，可以反映35年来市场的通货膨胀效应。\n",
    "\n",
    "运行下面区域的代码以载入波士顿房屋数据集，以及一些此项目所需的Python库。如果成功返回数据集的大小，表示数据集已载入成功。"
   ]
  },
  {
   "cell_type": "code",
   "execution_count": 2,
   "metadata": {
    "collapsed": true
   },
   "outputs": [],
   "source": [
    "# 载入此项目所需要的库\n",
    "import numpy as np\n",
    "import pandas as pd\n",
    "import visuals as vs # Supplementary code\n",
    "\n",
    "# 检查你的Python版本\n",
    "from sys import version_info\n",
    "if version_info.major != 2 and version_info.minor != 7:\n",
    "    raise Exception('请使用Python 2.7来完成此项目')\n",
    "    \n",
    "# 让结果在notebook中显示\n",
    "%matplotlib inline"
   ]
  },
  {
   "cell_type": "code",
   "execution_count": 3,
   "metadata": {},
   "outputs": [
    {
     "name": "stdout",
     "output_type": "stream",
     "text": [
      "Boston housing dataset has 489 data points with 4 variables each.\n"
     ]
    }
   ],
   "source": [
    "# 载入波士顿房屋的数据集\n",
    "data = pd.read_csv('housing.csv')\n",
    "prices = data['MEDV']\n",
    "features = data.drop('MEDV', axis = 1)\n",
    "\n",
    "# check data\n",
    "# print data.head()\n",
    "# print prices.head()\n",
    "# print features.head()\n",
    "# 完成\n",
    "print \"Boston housing dataset has {} data points with {} variables each.\".format(*data.shape)"
   ]
  },
  {
   "cell_type": "markdown",
   "metadata": {},
   "source": [
    "---\n",
    "## 第二步. 分析数据\n",
    "在项目的第一个部分，你会对波士顿房地产数据进行初步的观察并给出你的分析。通过对数据的探索来熟悉数据可以让你更好地理解和解释你的结果。\n",
    "\n",
    "由于这个项目的最终目标是建立一个预测房屋价值的模型，我们需要将数据集分为**特征(features)**和**目标变量(target variable)**。\n",
    "- **特征** `'RM'`， `'LSTAT'`，和 `'PTRATIO'`，给我们提供了每个数据点的数量相关的信息。\n",
    "- **目标变量**：` 'MEDV'`，是我们希望预测的变量。\n",
    "\n",
    "他们分别被存在`features`和`prices`两个变量名中。"
   ]
  },
  {
   "cell_type": "markdown",
   "metadata": {},
   "source": [
    "### 编程练习 1：基础统计运算\n",
    "你的第一个编程练习是计算有关波士顿房价的描述统计数据。我们已为你导入了` numpy `，你需要使用这个库来执行必要的计算。这些统计数据对于分析模型的预测结果非常重要的。\n",
    "在下面的代码中，你要做的是：\n",
    "- 计算`prices`中的`'MEDV'`的最小值、最大值、均值、中值和标准差；\n",
    "- 将运算结果储存在相应的变量中。"
   ]
  },
  {
   "cell_type": "code",
   "execution_count": 4,
   "metadata": {},
   "outputs": [
    {
     "name": "stdout",
     "output_type": "stream",
     "text": [
      "Statistics for Boston housing dataset:\n",
      "\n",
      "Minimum price: $105,000.00\n",
      "Maximum price: $1,024,800.00\n",
      "Mean price: $454,342.94\n",
      "Median price $438,900.00\n",
      "Standard deviation of prices: $165,171.13\n"
     ]
    }
   ],
   "source": [
    "#TODO 1\n",
    "\n",
    "#目标：计算价值的最小值\n",
    "minimum_price = np.min(prices)\n",
    "\n",
    "#目标：计算价值的最大值\n",
    "maximum_price = np.max(prices)\n",
    "\n",
    "#目标：计算价值的平均值\n",
    "mean_price = np.mean(prices)\n",
    "\n",
    "#目标：计算价值的中值\n",
    "median_price = np.median(prices)\n",
    "\n",
    "#目标：计算价值的标准差\n",
    "std_price = np.std(prices)\n",
    "\n",
    "#目标：输出计算的结果\n",
    "print \"Statistics for Boston housing dataset:\\n\"\n",
    "print \"Minimum price: ${:,.2f}\".format(minimum_price)\n",
    "print \"Maximum price: ${:,.2f}\".format(maximum_price)\n",
    "print \"Mean price: ${:,.2f}\".format(mean_price)\n",
    "print \"Median price ${:,.2f}\".format(median_price)\n",
    "print \"Standard deviation of prices: ${:,.2f}\".format(std_price)"
   ]
  },
  {
   "cell_type": "markdown",
   "metadata": {},
   "source": [
    "### 问题 1 - 特征观察\n",
    "\n",
    "如前文所述，本项目中我们关注的是其中三个值:`'RM'`、`'LSTAT'` 和`'PTRATIO'`，对每一个数据点:\n",
    "- `'RM'` 是该地区中每个房屋的平均房间数量；\n",
    "- `'LSTAT'` 是指该地区有多少百分比的业主属于是低收入阶层（有工作但收入微薄）；\n",
    "- `'PTRATIO'` 是该地区的中学和小学里，学生和老师的数目比（`学生/老师`）。\n",
    "\n",
    "_凭直觉，上述三个特征中对每一个来说，你认为增大该特征的数值，`'MEDV'`的值会是**增大**还是**减小**呢？每一个答案都需要你给出理由。_\n",
    "\n",
    "**提示：**你预期一个`'RM'` 值是6的房屋跟`'RM'` 值是7的房屋相比，价值更高还是更低呢？"
   ]
  },
  {
   "cell_type": "markdown",
   "metadata": {},
   "source": [
    "### 问题 1 - 回答：\n",
    "* 'RM'值越大，'MEDV'值越大。因为一栋房屋的平均房间数量如果越多的话，预示着房屋的占地面积也越大。在每平米均价相同的情况下，房屋的价值等于每平米均价与占地面积的乘积，所以房屋的价值也越高。\n",
    "* 'LSTAT'与'MEDV'并不一定有特别强的、直接的相关性。因为业主所居的房屋有可能是其父母或祖辈购入，或者是之前低价购入的，业主是低收入阶层并不代表住不起高价的房屋。虽然大多数情况下，低收入阶层是无法承受高价值房屋带来的压力的。所以其中必定存在很多潜在的因素，比如房屋购买的时间、房价的走势等。据此我认为'LSTAT'与'MEDV'不一定有直接的关联，还需结合具体数据验证。\n",
    "* 'PTRATIO'与'MEDV'一般情况下没有直接的关联关系，但是也不排除可能，需要在具体的样本数据中进一步验证。"
   ]
  },
  {
   "cell_type": "markdown",
   "metadata": {},
   "source": [
    "### 编程练习 2: 数据分割与重排\n",
    "接下来，你需要把波士顿房屋数据集分成训练和测试两个子集。通常在这个过程中，数据也会被重排列，以消除数据集中由于顺序而产生的偏差。\n",
    "在下面的代码中，你需要\n",
    "\n",
    "使用 `sklearn.model_selection` 中的 `train_test_split`， 将`features`和`prices`的数据都分成用于训练的数据子集和用于测试的数据子集。\n",
    "  - 分割比例为：80%的数据用于训练，20%用于测试；\n",
    "  - 选定一个数值以设定 `train_test_split` 中的 `random_state` ，这会确保结果的一致性；"
   ]
  },
  {
   "cell_type": "code",
   "execution_count": 5,
   "metadata": {
    "collapsed": true
   },
   "outputs": [],
   "source": [
    "# TODO 2\n",
    "\n",
    "# 提示： 导入train_test_split\n",
    "from sklearn.model_selection import train_test_split\n",
    "\n",
    "X_train, X_test, y_train, y_test = train_test_split(features, prices, test_size=0.2, random_state=69)\n",
    "\n",
    "# print len(X_train)\n",
    "# print len(X_test)\n",
    "# print len(y_train)\n",
    "# print len(y_test)"
   ]
  },
  {
   "cell_type": "markdown",
   "metadata": {},
   "source": [
    "### 问题 2 - 训练及测试\n",
    "*将数据集按一定比例分为训练用的数据集和测试用的数据集对学习算法有什么好处？*\n",
    "\n",
    "*如果用模型已经见过的数据，例如部分训练集数据进行测试，又有什么坏处？*\n",
    "\n",
    "**提示：** 如果没有数据来对模型进行测试，会出现什么问题？"
   ]
  },
  {
   "cell_type": "markdown",
   "metadata": {},
   "source": [
    "### 问题 2 - 回答:\n",
    "- 训练集用于模型的构建，而测试集用于模型的检验，检测模型的准确率。\n",
    "- 如果仅仅只有训练集而没有测试集的话，很可能会造成过度拟合的情况发生，造成方差过大，无法泛化。"
   ]
  },
  {
   "cell_type": "markdown",
   "metadata": {},
   "source": [
    "---\n",
    "## 第三步. 模型衡量标准\n",
    "在项目的第三步中，你需要了解必要的工具和技巧来让你的模型进行预测。用这些工具和技巧对每一个模型的表现做精确的衡量可以极大地增强你预测的信心。"
   ]
  },
  {
   "cell_type": "markdown",
   "metadata": {},
   "source": [
    "### 编程练习3：定义衡量标准\n",
    "如果不能对模型的训练和测试的表现进行量化地评估，我们就很难衡量模型的好坏。通常我们会定义一些衡量标准，这些标准可以通过对某些误差或者拟合程度的计算来得到。在这个项目中，你将通过运算[*决定系数*](http://stattrek.com/statistics/dictionary.aspx?definition=coefficient_of_determination) R<sup>2</sup> 来量化模型的表现。模型的决定系数是回归分析中十分常用的统计信息，经常被当作衡量模型预测能力好坏的标准。\n",
    "\n",
    "R<sup>2</sup>的数值范围从0至1，表示**目标变量**的预测值和实际值之间的相关程度平方的百分比。一个模型的R<sup>2</sup> 值为0还不如直接用**平均值**来预测效果好；而一个R<sup>2</sup> 值为1的模型则可以对目标变量进行完美的预测。从0至1之间的数值，则表示该模型中目标变量中有百分之多少能够用**特征**来解释。_模型也可能出现负值的R<sup>2</sup>，这种情况下模型所做预测有时会比直接计算目标变量的平均值差很多。_\n",
    "\n",
    "在下方代码的 `performance_metric` 函数中，你要实现：\n",
    "- 使用 `sklearn.metrics` 中的 [`r2_score`](http://scikit-learn.org/stable/modules/generated/sklearn.metrics.r2_score.html) 来计算 `y_true` 和 `y_predict`的R<sup>2</sup>值，作为对其表现的评判。\n",
    "- 将他们的表现评分储存到`score`变量中。\n",
    "\n",
    "或 \n",
    "\n",
    "- (可选) 不使用任何外部库，参考[决定系数的定义](https://en.wikipedia.org/wiki/Coefficient_of_determination)进行计算，这也可以帮助你更好的理解决定系数在什么情况下等于0或等于1。"
   ]
  },
  {
   "cell_type": "code",
   "execution_count": 6,
   "metadata": {
    "collapsed": true
   },
   "outputs": [],
   "source": [
    "# TODO 3\n",
    "\n",
    "# 提示： 导入r2_score\n",
    "from sklearn.metrics import r2_score\n",
    "\n",
    "def performance_metric(y_true, y_predict):\n",
    "    \"\"\"计算并返回预测值相比于预测值的分数\"\"\"\n",
    "    \n",
    "    score = r2_score(y_true, y_predict)\n",
    "\n",
    "    return score\n",
    "\n",
    "# only for test\n",
    "# y_true = [3, -0.5, 2, 7]\n",
    "# y_pred = [2.5, 0.0, 2, 8]\n",
    "# performance_metric(y_true, y_pred)"
   ]
  },
  {
   "cell_type": "code",
   "execution_count": 7,
   "metadata": {
    "collapsed": true
   },
   "outputs": [],
   "source": [
    "# TODO 3 可选\n",
    "\n",
    "# 不允许导入任何计算决定系数的库\n",
    "# R^2 = { ( 1 / N ) * Σ [ (xi - x) * (yi - y) ] / (σx * σy ) }^2\n",
    "\n",
    "def performance_metric2(y_true, y_predict):\n",
    "    \"\"\"计算并返回预测值相比于预测值的分数\"\"\"\n",
    "    n = len(y_true)\n",
    "    y_true_mean = np.mean(y_true)\n",
    "    y_true_std = np.std(y_true)\n",
    "    y_predict_mean = np.mean(y_predict)\n",
    "    y_predict_std = np.std(y_predict)\n",
    "    total = sum(((y_true[i] - y_true_mean) * (y_predict[i] - y_predict_mean)) / (y_true_std * y_predict_std) for i in range(n))\n",
    "    \n",
    "    score = pow(total / n, 2)\n",
    "\n",
    "    return score\n",
    "\n",
    "# only for test\n",
    "# y_true = [3, -0.5, 2, 7]\n",
    "# y_pred = [2.5, 0.0, 2, 8]\n",
    "# performance_metric(y_true, y_pred)"
   ]
  },
  {
   "cell_type": "markdown",
   "metadata": {},
   "source": [
    "### 问题 3 - 拟合程度\n",
    "\n",
    "假设一个数据集有五个数据且一个模型做出下列目标变量的预测：\n",
    "\n",
    "| 真实数值 | 预测数值 |\n",
    "| :-------------: | :--------: |\n",
    "| 3.0 | 2.5 |\n",
    "| -0.5 | 0.0 |\n",
    "| 2.0 | 2.1 |\n",
    "| 7.0 | 7.8 |\n",
    "| 4.2 | 5.3 |\n",
    "*你觉得这个模型已成功地描述了目标变量的变化吗？如果成功，请解释为什么，如果没有，也请给出原因。*  \n",
    "\n",
    "**提示**：运行下方的代码，使用`performance_metric`函数来计算模型的决定系数。"
   ]
  },
  {
   "cell_type": "code",
   "execution_count": 8,
   "metadata": {},
   "outputs": [
    {
     "name": "stdout",
     "output_type": "stream",
     "text": [
      "Model has a coefficient of determination, R^2, of 0.923.\n"
     ]
    }
   ],
   "source": [
    "# 计算这个模型的预测结果的决定系数\n",
    "score = performance_metric([3, -0.5, 2, 7, 4.2], [2.5, 0.0, 2.1, 7.8, 5.3])\n",
    "print \"Model has a coefficient of determination, R^2, of {:.3f}.\".format(score)"
   ]
  },
  {
   "cell_type": "markdown",
   "metadata": {},
   "source": [
    "### 问题 3 - 回答:\n",
    "R^2 Score=0.923，接近1。表明这个模型的预测结果与真实结果的方差极低，几乎可以准确的预测目标变量。"
   ]
  },
  {
   "cell_type": "markdown",
   "metadata": {},
   "source": [
    "---\n",
    "## 第四步. 分析模型的表现\n",
    "在项目的第四步，我们来看一下不同参数下，模型在训练集和验证集上的表现。这里，我们专注于一个特定的算法（带剪枝的决策树，但这并不是这个项目的重点），和这个算法的一个参数 `'max_depth'`。用全部训练集训练，选择不同`'max_depth'` 参数，观察这一参数的变化如何影响模型的表现。画出模型的表现来对于分析过程十分有益，这可以让我们看到一些单看结果看不到的行为。"
   ]
  },
  {
   "cell_type": "markdown",
   "metadata": {},
   "source": [
    "### 学习曲线\n",
    "下方区域内的代码会输出四幅图像，它们是一个决策树模型在不同最大深度下的表现。每一条曲线都直观得显示了随着训练数据量的增加，模型学习曲线的在训练集评分和验证集评分的变化，评分使用决定系数R<sup>2</sup>。曲线的阴影区域代表的是该曲线的不确定性（用标准差衡量）。\n",
    "\n",
    "运行下方区域中的代码，并利用输出的图形回答下面的问题。"
   ]
  },
  {
   "cell_type": "code",
   "execution_count": 9,
   "metadata": {
    "scrolled": false
   },
   "outputs": [
    {
     "data": {
      "image/png": "iVBORw0KGgoAAAANSUhEUgAAA0kAAAIKCAYAAAD2wgQ2AAAABHNCSVQICAgIfAhkiAAAAAlwSFlz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\nzMzMzMwK7iSZmZmZmZkV/gsHM9LpksotWgAAAABJRU5ErkJggg==\n",
      "text/plain": [
       "<matplotlib.figure.Figure at 0x84791d0>"
      ]
     },
     "metadata": {},
     "output_type": "display_data"
    }
   ],
   "source": [
    "# 根据不同的训练集大小，和最大深度，生成学习曲线\n",
    "vs.ModelLearning(X_train, y_train)"
   ]
  },
  {
   "cell_type": "markdown",
   "metadata": {},
   "source": [
    "### 问题 4 - 学习曲线\n",
    "*选择上述图像中的其中一个，并给出其最大深度。随着训练数据量的增加，训练集曲线的评分有怎样的变化？验证集曲线呢？如果有更多的训练数据，是否能有效提升模型的表现呢？*\n",
    "\n",
    "**提示：**学习曲线的评分是否最终会收敛到特定的值？"
   ]
  },
  {
   "cell_type": "markdown",
   "metadata": {},
   "source": [
    "### 问题 4 - 回答:\n",
    "- 观察左上角图（max_depth=1），随着训练集和验证集数据量的增加，两者的评分分别收敛于0.5和0.4附近。\n",
    "- 而随着数据量的逐渐增加，训练集的评分呈现慢慢降低的趋势，而验证集的评分则有显著的提高。"
   ]
  },
  {
   "cell_type": "markdown",
   "metadata": {},
   "source": [
    "### 复杂度曲线\n",
    "下列代码内的区域会输出一幅图像，它展示了一个已经经过训练和验证的决策树模型在不同最大深度条件下的表现。这个图形将包含两条曲线，一个是训练集的变化，一个是验证集的变化。跟**学习曲线**相似，阴影区域代表该曲线的不确定性，模型训练和测试部分的评分都用的 `performance_metric` 函数。\n",
    "\n",
    "运行下方区域中的代码，并利用输出的图形并回答下面的两个问题。"
   ]
  },
  {
   "cell_type": "code",
   "execution_count": 10,
   "metadata": {},
   "outputs": [
    {
     "data": {
      "image/png": "iVBORw0KGgoAAAANSUhEUgAAAb4AAAFNCAYAAAB/iwpeAAAABHNCSVQICAgIfAhkiAAAAAlwSFlz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\niiU+Y4wxQeX/AQuv2U4ilxAGAAAAAElFTkSuQmCC\n",
      "text/plain": [
       "<matplotlib.figure.Figure at 0xc293518>"
      ]
     },
     "metadata": {},
     "output_type": "display_data"
    }
   ],
   "source": [
    "# 根据不同的最大深度参数，生成复杂度曲线\n",
    "vs.ModelComplexity(X_train, y_train)"
   ]
  },
  {
   "cell_type": "markdown",
   "metadata": {},
   "source": [
    "### 问题 5 - 偏差（bias）与方差（variance）之间的权衡取舍\n",
    "*当模型以最大深度 1训练时，模型的预测是出现很大的偏差还是出现了很大的方差？当模型以最大深度10训练时，情形又如何呢？图形中的哪些特征能够支持你的结论？*\n",
    "  \n",
    "**提示：** 你如何得知模型是否出现了偏差很大或者方差很大的问题？"
   ]
  },
  {
   "cell_type": "markdown",
   "metadata": {},
   "source": [
    "### 问题 5 - 回答:\n",
    "- 当模型以最大深度1训练时，验证曲线的阴影面积很大，模型的预测出现了很大的偏差。\n",
    "- 当模型以最大深度10训练时，训练曲线与验证曲线的距离很大，说明模型的预测出了很大的方差。"
   ]
  },
  {
   "cell_type": "markdown",
   "metadata": {},
   "source": [
    "### 问题 6- 最优模型的猜测\n",
    "*结合问题 5 中的图，你认为最大深度是多少的模型能够最好地对未见过的数据进行预测？你得出这个答案的依据是什么？*"
   ]
  },
  {
   "cell_type": "markdown",
   "metadata": {},
   "source": [
    "### 问题 6 - 回答:\n",
    "> 我认为当模型以最大深度4训练时，模型能够最好地对未见过的数据进行预测。依据如下：\n",
    "* 以最大深度4训练时，阴影面积最小，说明偏差最小。\n",
    "* 以最大深度4训练时，训练曲线与验证曲线的距离最短，说明方差最小。"
   ]
  },
  {
   "cell_type": "markdown",
   "metadata": {},
   "source": [
    "---\n",
    "## 第五步. 选择最优参数"
   ]
  },
  {
   "cell_type": "markdown",
   "metadata": {},
   "source": [
    "### 问题 7- 网格搜索（Grid Search）\n",
    "*什么是网格搜索法？如何用它来优化模型？*\n"
   ]
  },
  {
   "cell_type": "markdown",
   "metadata": {},
   "source": [
    "### 问题 7 - 回答:\n",
    "网格搜索法是指定参数值的一种穷举搜索方法，通过将估计函数的参数通过交叉验证的方法进行优化来得到最优的学习算法。 \n",
    "即将各个参数可能的取值进行排列组合，列出所有可能的组合结果生成“网格”。然后将各组合用于SVM训练，并使用交叉验证对表现进行评估。在拟合函数尝试了所有的参数组合后，返回一个合适的分类器，自动调整至最佳参数组合，通过 clf.best\\_params\\_来获得参数值。"
   ]
  },
  {
   "cell_type": "markdown",
   "metadata": {},
   "source": [
    "### 问题 8 - 交叉验证\n",
    "- 什么是K折交叉验证法（k-fold cross-validation）？\n",
    "- [GridSearchCV](http://scikit-learn.org/stable/modules/generated/sklearn.model_selection.GridSearchCV.html)是如何结合交叉验证来完成对最佳参数组合的选择的？\n",
    "- [GridSearchCV](http://scikit-learn.org/stable/modules/generated/sklearn.model_selection.GridSearchCV.html)中的`'cv_results_'`属性能告诉我们什么？\n",
    "- 网格搜索时如果不使用交叉验证会有什么问题？交叉验证又是如何解决这个问题的？\n",
    "\n",
    "**提示：** 在下面 fit_model函数最后加入 `print pd.DataFrame(grid.cv_results_)` 可以帮你查看更多信息。"
   ]
  },
  {
   "cell_type": "markdown",
   "metadata": {},
   "source": [
    "### 问题 8 - 回答：\n",
    "- K折交叉验证法指将数据集分成K份，每次选取1份数据集作为验证集，其余K-1份作为训练集，共运行K次单独的学习试验。计算K次试验中基于验证集得到的测试结果的平均值，来作为对于学习算法的评估。K折交叉验证法花费的计算时间较长，但是对于学习算法的评估更加准确。\n",
    "- GridSearchCV的拟合函数在遍历每个参数组合时，需要对使用此参数组合的学习算法进行评估，挑选最合适的参数组合，而其评估算法采用的便是交叉验证算法。在交叉验证法下，评估得分最高的即被采纳为最佳参数组合。\n",
    "- GridSearchCV中的'cv\\_results\\_'属性返回一个dict，包含相关参数以及对应的值，其中包括K次交叉验证法下训练集和验证集的评分，平均值，标准差，找到最佳参数组合的平均时间，评估得分的平均时间，参数组合列表，各个参数的可选值的顺序排列。\n",
    "- 可能会存在过拟合的问题，因为不拆分数据集为训练集与测试集，并且只进行一次学习试验，从数据集中获取的信息将比较固定，训练后的模型预测结果的方差会很大，不利于泛化。而交叉验证通过随机划分数据集，在多次独立的学习试验中均采用不同的训练集和测试集，能尽量多的从数据中获取信息特征，基于此的评估分数也会更加准确，从而得到最佳参数组合。"
   ]
  },
  {
   "cell_type": "markdown",
   "metadata": {},
   "source": [
    "### 编程练习 4：训练最优模型\n",
    "在这个练习中，你将需要将所学到的内容整合，使用**决策树算法**训练一个模型。为了得出的是一个最优模型，你需要使用网格搜索法训练模型，以找到最佳的 `'max_depth'` 参数。你可以把`'max_depth'` 参数理解为决策树算法在做出预测前，允许其对数据提出问题的数量。决策树是**监督学习算法**中的一种。\n",
    "\n",
    "在下方 `fit_model` 函数中，你需要做的是：\n",
    "1. **定义 `'cross_validator'` 变量**: 使用 `sklearn.model_selection` 中的 [`KFold`](http://scikit-learn.org/stable/modules/generated/sklearn.model_selection.KFold.html) 创建一个交叉验证生成器对象;\n",
    "2. **定义 `'regressor'` 变量**: 使用  `sklearn.tree` 中的 [`DecisionTreeRegressor`](http://scikit-learn.org/stable/modules/generated/sklearn.tree.DecisionTreeRegressor.html) 创建一个决策树的回归函数;\n",
    "3. **定义 `'params'` 变量**: 为 `'max_depth'` 参数创造一个字典，它的值是从1至10的数组;\n",
    "4. **定义 `'scoring_fnc'` 变量**: 使用 `sklearn.metrics` 中的 [`make_scorer`](http://scikit-learn.org/stable/modules/generated/sklearn.metrics.make_scorer.html)  创建一个评分函数；\n",
    " 将 `‘performance_metric’` 作为参数传至这个函数中；\n",
    "5. **定义 `'grid'` 变量**: 使用 `sklearn.model_selection` 中的 [`GridSearchCV`](http://scikit-learn.org/stable/modules/generated/sklearn.model_selection.GridSearchCV.html) 创建一个网格搜索对象；将变量`'regressor'`, `'params'`, `'scoring_fnc'`和 `'cross_validator'` 作为参数传至这个对象构造函数中；\n",
    "  \n",
    "如果你对python函数的默认参数定义和传递不熟悉，可以参考这个MIT课程的[视频](http://cn-static.udacity.com/mlnd/videos/MIT600XXT114-V004200_DTH.mp4)。"
   ]
  },
  {
   "cell_type": "code",
   "execution_count": 11,
   "metadata": {
    "collapsed": true
   },
   "outputs": [],
   "source": [
    "# TODO 4\n",
    "\n",
    "#提示: 导入 'KFold' 'DecisionTreeRegressor' 'make_scorer' 'GridSearchCV' \n",
    "from sklearn.model_selection import KFold\n",
    "from sklearn.tree import DecisionTreeRegressor\n",
    "from sklearn.metrics import make_scorer\n",
    "from sklearn.model_selection import GridSearchCV\n",
    "\n",
    "def fit_model(X, y):\n",
    "    \"\"\" 基于输入数据 [X,y]，利于网格搜索找到最优的决策树模型\"\"\"\n",
    "    cross_validator = KFold()\n",
    "    \n",
    "    regressor = DecisionTreeRegressor()\n",
    "\n",
    "    params = { 'max_depth': range(1, 11)}\n",
    "\n",
    "    scoring_fnc = make_scorer(performance_metric)\n",
    "\n",
    "    grid = GridSearchCV(estimator=regressor, param_grid=params, scoring=scoring_fnc, cv=cross_validator)\n",
    "\n",
    "    # 基于输入数据 [X,y]，进行网格搜索\n",
    "    grid = grid.fit(X, y)\n",
    "\n",
    "    # 返回网格搜索后的最优模型\n",
    "    return grid.best_estimator_\n",
    "\n",
    "# only for test\n",
    "# fit_model(X_train, y_train)"
   ]
  },
  {
   "cell_type": "markdown",
   "metadata": {},
   "source": [
    "### 编程练习 4：训练最优模型 （可选）\n",
    "在这个练习中，你将需要将所学到的内容整合，使用**决策树算法**训练一个模型。为了得出的是一个最优模型，你需要使用网格搜索法训练模型，以找到最佳的 `'max_depth'` 参数。你可以把`'max_depth'` 参数理解为决策树算法在做出预测前，允许其对数据提出问题的数量。决策树是**监督学习算法**中的一种。\n",
    "\n",
    "在下方 `fit_model` 函数中，你需要做的是：\n",
    "\n",
    "- 遍历参数`‘max_depth’`的可选值 1～10，构造对应模型\n",
    "- 计算当前模型的交叉验证分数\n",
    "- 返回最优交叉验证分数对应的模型"
   ]
  },
  {
   "cell_type": "code",
   "execution_count": 12,
   "metadata": {
    "collapsed": true
   },
   "outputs": [],
   "source": [
    "# TODO 4 可选\n",
    "\n",
    "'''\n",
    "不允许使用 DecisionTreeRegressor 以外的任何 sklearn 库\n",
    "\n",
    "提示: 你可能需要实现下面的 cross_val_score 函数\n",
    "'''\n",
    "# from sklearn.model_selection import cross_val_score\n",
    "def cross_val_score(estimator, X, y, scoring = performance_metric, cv=3):\n",
    "    \"\"\" 返回每组交叉验证的模型分数的数组 \"\"\"\n",
    "    total = len(X)\n",
    "    unit = total / cv\n",
    "    X_dataset = [X[: unit - 1], X[unit: 2 * unit - 1], X[2 * unit:]]\n",
    "    y_dataset = [y[: unit - 1], y[unit: 2 * unit - 1], y[2 * unit:]]\n",
    "    scores = [0,0,0]\n",
    "#     X_train = X_dataset[0:1] + X_dataset[-1:]\n",
    "#     print(len(concat_array(X_train)))\n",
    "    for i in range(cv):\n",
    "        self_estimator = estimator\n",
    "        for k in range(cv):\n",
    "            if i != k:\n",
    "                self_estimator = self_estimator.fit(X_dataset[k], y_dataset[k])\n",
    "        scores[i] = scoring(y_dataset[i], self_estimator.predict(X_dataset[i]))\n",
    "#         scores[i] = scoring(y_dataset[i],\n",
    "#                             estimator.fit(X_dataset[0:i] + X_dataset[i-cv+1:], y_dataset[0:i] + y_dataset[i-cv+1:]).predict(X_dataset[i]))\n",
    "    return scores\n",
    "\n",
    "def fit_model2(X, y):\n",
    "    \"\"\" 基于输入数据 [X,y]，利于网格搜索找到最优的决策树模型\"\"\"\n",
    "    \n",
    "    best_average_score = 0\n",
    "    cur_max_depth = 0\n",
    "    for i in range(1, 11):\n",
    "        scores = cross_val_score(DecisionTreeRegressor(max_depth=i), X, y)\n",
    "        avg_scores = np.mean(scores)\n",
    "        if best_average_score < avg_scores:\n",
    "            best_average_score = avg_scores\n",
    "            cur_max_depth = i\n",
    "#         print scores\n",
    "    #最优交叉验证分数对应的最优模型\n",
    "#     print(cur_max_depth)\n",
    "    best_estimator = DecisionTreeRegressor(max_depth=cur_max_depth)\n",
    "    \n",
    "    return best_estimator\n",
    "\n",
    "\n",
    "# only for test\n",
    "# fit_model2(X_train, y_train)"
   ]
  },
  {
   "cell_type": "markdown",
   "metadata": {},
   "source": [
    "### 问题 9 - 最优模型\n",
    "*最优模型的最大深度（maximum depth）是多少？此答案与你在**问题 6**所做的猜测是否相同？*\n",
    "\n",
    "运行下方区域内的代码，将决策树回归函数代入训练数据的集合，以得到最优化的模型。"
   ]
  },
  {
   "cell_type": "code",
   "execution_count": 13,
   "metadata": {
    "scrolled": true
   },
   "outputs": [
    {
     "name": "stdout",
     "output_type": "stream",
     "text": [
      "Parameter 'max_depth' is 4 for the optimal model.\n"
     ]
    }
   ],
   "source": [
    "# 基于训练数据，获得最优模型\n",
    "optimal_reg = fit_model(X_train, y_train)\n",
    "\n",
    "# 输出最优模型的 'max_depth' 参数\n",
    "print \"Parameter 'max_depth' is {} for the optimal model.\".format(optimal_reg.get_params()['max_depth'])"
   ]
  },
  {
   "cell_type": "markdown",
   "metadata": {},
   "source": [
    "### 问题 9 - 回答：\n",
    "最优模型的最大深度（maximum depth）= 4,与我在问题6所做的猜测相同"
   ]
  },
  {
   "cell_type": "markdown",
   "metadata": {},
   "source": [
    "## 第六步. 做出预测\n",
    "当我们用数据训练出一个模型，它现在就可用于对新的数据进行预测。在决策树回归函数中，模型已经学会对新输入的数据*提问*，并返回对**目标变量**的预测值。你可以用这个预测来获取数据未知目标变量的信息，这些数据必须是不包含在训练数据之内的。"
   ]
  },
  {
   "cell_type": "markdown",
   "metadata": {},
   "source": [
    "### 问题 10 - 预测销售价格\n",
    "想像你是一个在波士顿地区的房屋经纪人，并期待使用此模型以帮助你的客户评估他们想出售的房屋。你已经从你的三个客户收集到以下的资讯:\n",
    "\n",
    "| 特征 | 客戶 1 | 客戶 2 | 客戶 3 |\n",
    "| :---: | :---: | :---: | :---: |\n",
    "| 房屋内房间总数 | 5 间房间 | 4 间房间 | 8 间房间 |\n",
    "| 社区贫困指数（％被认为是贫困阶层） | 17% | 32% | 3% |\n",
    "| 邻近学校的学生-老师比例 | 15：1 | 22：1 | 12：1 |\n",
    "\n",
    "*你会建议每位客户的房屋销售的价格为多少？从房屋特征的数值判断，这样的价格合理吗？为什么？* \n",
    "\n",
    "**提示：**用你在**分析数据**部分计算出来的统计信息来帮助你证明你的答案。\n",
    "\n",
    "运行下列的代码区域，使用你优化的模型来为每位客户的房屋价值做出预测。"
   ]
  },
  {
   "cell_type": "code",
   "execution_count": 14,
   "metadata": {},
   "outputs": [
    {
     "name": "stdout",
     "output_type": "stream",
     "text": [
      "Predicted selling price for Client 1's home: $336,150.00\n",
      "Predicted selling price for Client 2's home: $231,798.00\n",
      "Predicted selling price for Client 3's home: $892,850.00\n"
     ]
    }
   ],
   "source": [
    "# 生成三个客户的数据\n",
    "client_data = [[5, 17, 15], # 客户 1\n",
    "               [4, 32, 22], # 客户 2\n",
    "               [8, 3, 12]]  # 客户 3\n",
    "\n",
    "# 进行预测\n",
    "predicted_price = optimal_reg.predict(client_data)\n",
    "for i, price in enumerate(predicted_price):\n",
    "    print \"Predicted selling price for Client {}'s home: ${:,.2f}\".format(i+1, price)"
   ]
  },
  {
   "cell_type": "markdown",
   "metadata": {},
   "source": [
    "### 问题 10 - 回答：\n",
    "根据模型的预测，我建议客户的房屋销售价格分别为\\$336,150.00，\\$231,798.00和\\$892,850.00。\n",
    "\n",
    "从房屋特征的数值判断，这样的价格是合理的。\n",
    "- 从房屋的特征值来看，房屋售价确实随着房间总数的增多而增高；房屋售价越高，所在的社区贫困指数越低。\n",
    "- 而邻近学校的学生-老师比例这一看似无关的特征，也与房屋售价存在着一定的联系。可以看到，房屋售价越高的社区，学生-老师比例相对较低，说明高档社区周边方可具备运营贵族学校（小班化教育）的条件，进一步印证了房屋售价与社区贫困指数的相关性。"
   ]
  },
  {
   "cell_type": "markdown",
   "metadata": {},
   "source": [
    "### 编程练习 5\n",
    "你刚刚预测了三个客户的房子的售价。在这个练习中，你将用你的最优模型在整个测试数据上进行预测, 并计算相对于目标变量的决定系数 R<sup>2</sup>的值**。"
   ]
  },
  {
   "cell_type": "code",
   "execution_count": 15,
   "metadata": {},
   "outputs": [
    {
     "name": "stdout",
     "output_type": "stream",
     "text": [
      "Optimal model has R^2 score 0.74 on test data\n"
     ]
    }
   ],
   "source": [
    "#TODO 5\n",
    "\n",
    "# 提示：你可能需要用到 X_test, y_test, optimal_reg, performance_metric\n",
    "# 提示：你可能需要参考问题10的代码进行预测\n",
    "# 提示：你可能需要参考问题3的代码来计算R^2的值\n",
    "\n",
    "r2 = performance_metric(y_test, optimal_reg.predict(X_test))\n",
    "\n",
    "print \"Optimal model has R^2 score {:,.2f} on test data\".format(r2)"
   ]
  },
  {
   "cell_type": "markdown",
   "metadata": {},
   "source": [
    "### 问题11 - 分析决定系数\n",
    "\n",
    "你刚刚计算了最优模型在测试集上的决定系数，你会如何评价这个结果？"
   ]
  },
  {
   "cell_type": "markdown",
   "metadata": {},
   "source": [
    "### 问题11 - 回答\n",
    "R<sup>2</sup>=0.74。结果并不是很优秀，方差还是较大，需要增加训练集的个数再对模型作训练优化提高模型预测的准确性。"
   ]
  },
  {
   "cell_type": "markdown",
   "metadata": {},
   "source": [
    "### 模型健壮性\n",
    "\n",
    "一个最优的模型不一定是一个健壮模型。有的时候模型会过于复杂或者过于简单，以致于难以泛化新增添的数据；有的时候模型采用的学习算法并不适用于特定的数据结构；有的时候样本本身可能有太多噪点或样本过少，使得模型无法准确地预测目标变量。这些情况下我们会说模型是欠拟合的。\n",
    "\n",
    "### 问题 12 - 模型健壮性\n",
    "\n",
    "模型是否足够健壮来保证预测的一致性？\n",
    "\n",
    "**提示**: 执行下方区域中的代码，采用不同的训练和测试集执行 `fit_model` 函数10次。注意观察对一个特定的客户来说，预测是如何随训练数据的变化而变化的。"
   ]
  },
  {
   "cell_type": "code",
   "execution_count": 16,
   "metadata": {},
   "outputs": [
    {
     "name": "stdout",
     "output_type": "stream",
     "text": [
      "Trial 1: $391,183.33\n",
      "Trial 2: $411,417.39\n",
      "Trial 3: $415,800.00\n",
      "Trial 4: $428,316.00\n",
      "Trial 5: $413,334.78\n",
      "Trial 6: $411,931.58\n",
      "Trial 7: $399,663.16\n",
      "Trial 8: $407,232.00\n",
      "Trial 9: $402,531.82\n",
      "Trial 10: $413,700.00\n",
      "\n",
      "Range in prices: $37,132.67\n"
     ]
    }
   ],
   "source": [
    "# 请先注释掉 fit_model 函数里的所有 print 语句\n",
    "vs.PredictTrials(features, prices, fit_model, client_data)"
   ]
  },
  {
   "cell_type": "markdown",
   "metadata": {},
   "source": [
    "### 问题 12 - 回答：\n",
    "模型预测的结果随着训练数据的变化，在增减的波动中反复，波幅逐渐变小，最终收敛于一个确定值。"
   ]
  },
  {
   "cell_type": "markdown",
   "metadata": {},
   "source": [
    "### 问题 13 - 实用性探讨\n",
    "*简单地讨论一下你建构的模型能否在现实世界中使用？* \n",
    "\n",
    "提示：回答以下几个问题，并给出相应结论的理由：\n",
    "- *1978年所采集的数据，在已考虑通货膨胀的前提下，在今天是否仍然适用？*\n",
    "- *数据中呈现的特征是否足够描述一个房屋？*\n",
    "- *在波士顿这样的大都市采集的数据，能否应用在其它乡镇地区？*\n",
    "- *你觉得仅仅凭房屋所在社区的环境来判断房屋价值合理吗？*"
   ]
  },
  {
   "cell_type": "markdown",
   "metadata": {},
   "source": [
    "### 问题 13 - 回答：\n",
    "- 1978年的数据已经不适用于当下了，或者说失效了。尽管已考虑了通货膨胀的情况，但是其余的经济因素的变化也很大，比如国家的GDP的增长等。除此以外，购房观念也在变化，人们更趋向于租房而不是买房，也会造成房价的变化。所以需要重新采集当下的数据来作为训练集。\n",
    "- 数据中仅有三个特征值，不足以完整地描述房屋。影响房屋售价的因素还可能有房屋所在的地段、周边的配套、交通是否便利、房屋的装修情况等。\n",
    "- 因为房屋售价受所在地区的整体经济情况下影响很大，所以一般在波士顿这样的大都市采集的数据，是无法应用在其它乡镇地区的。但是可以对预测结果进行换算，或者在训练集中加入某个系数或者特征值来调整，从而达到准确预测其他地区房价的目的。\n",
    "- 在之前对问题1的特征观察中，我就已经提到仅仅凭房屋所在社区的环境来判断房屋价值是有失偏颇的。因为社区环境并不是影响房价的主因，而只是其中的一个因素而已。影响房价的因素还有许多。如果训练集的特征值仅有社区环境的话，训练得到的模型偏差将会变得很大。"
   ]
  },
  {
   "cell_type": "markdown",
   "metadata": {},
   "source": [
    "## 可选问题 - 预测北京房价\n",
    "\n",
    "（本题结果不影响项目是否通过）通过上面的实践，相信你对机器学习的一些常用概念有了很好的领悟和掌握。但利用70年代的波士顿房价数据进行建模的确对我们来说意义不是太大。现在你可以把你上面所学应用到北京房价数据集中 `bj_housing.csv`。\n",
    "\n",
    "免责声明：考虑到北京房价受到宏观经济、政策调整等众多因素的直接影响，预测结果仅供参考。\n",
    "\n",
    "这个数据集的特征有：\n",
    "- Area：房屋面积，平方米\n",
    "- Room：房间数，间\n",
    "- Living: 厅数，间\n",
    "- School: 是否为学区房，0或1\n",
    "- Year: 房屋建造时间，年\n",
    "- Floor: 房屋所处楼层，层\n",
    "\n",
    "目标变量：\n",
    "- Value: 房屋人民币售价，万\n",
    "\n",
    "你可以参考上面学到的内容，拿这个数据集来练习数据分割与重排、定义衡量标准、训练模型、评价模型表现、使用网格搜索配合交叉验证对参数进行调优并选出最佳参数，比较两者的差别，最终得出最佳模型对验证集的预测分数。"
   ]
  },
  {
   "cell_type": "code",
   "execution_count": 18,
   "metadata": {},
   "outputs": [
    {
     "name": "stdout",
     "output_type": "stream",
     "text": [
      "Parameter 'max_depth' is 7 for the optimal model.\n",
      "Optimal model has R^2 score 0.58 on test data\n"
     ]
    }
   ],
   "source": [
    "# TODO 6\n",
    "\n",
    "# 你的代码\n",
    "\n",
    "# 读取data到pandas df\n",
    "data = pd.read_csv('bj_housing.csv')\n",
    "values = data['Value']\n",
    "features = data.drop('Value', axis = 1)\n",
    "\n",
    "# 划分训练集和验证集\n",
    "X_train, X_test, y_train, y_test = train_test_split(features, values, test_size=0.2, random_state=69)\n",
    "\n",
    "# 基于训练数据，获得最优模型\n",
    "optimal_reg = fit_model(X_train, y_train)\n",
    "\n",
    "# 输出最优模型的 'max_depth' 参数\n",
    "print \"Parameter 'max_depth' is {} for the optimal model.\".format(optimal_reg.get_params()['max_depth'])\n",
    "\n",
    "# 得出预测分数\n",
    "r2 = performance_metric(y_test, optimal_reg.predict(X_test))\n",
    "\n",
    "print \"Optimal model has R^2 score {:,.2f} on test data\".format(r2)"
   ]
  },
  {
   "cell_type": "markdown",
   "metadata": {},
   "source": [
    "### 问题14 - 北京房价预测\n",
    "你成功的用新的数据集构建了模型了吗？他能对测试数据进行验证吗？它的表现是否符合你的预期？交叉验证是否有助于提升你模型的表现？\n",
    "\n",
    "**提示：**如果你是从零开始构建机器学习的代码会让你一时觉得无从下手。这时不要着急，你要做的只是查看之前写的代码，把每一行都看明白，然后逐步构建你的模型。当中遇到什么问题也可以在我们论坛寻找答案。也许你会发现你所构建的模型的表现并没有达到你的预期，这说明机器学习并非是一项简单的任务，构建一个表现良好的模型需要长时间的研究和测试。这也是我们接下来的课程中会逐渐学到的。"
   ]
  },
  {
   "cell_type": "markdown",
   "metadata": {},
   "source": [
    "### 问题14 - 回答\n",
    "我成功使用新数据集构建了模型，并对测试数据进行了验证，得到了R<sup>2</sup>=0.58,方差相对较大，还需要进一步训练，优化模型。交叉验证并没有完全提升模型的表现，可能的原因猜测如下：决策树算法并不适用于此模型的构建；交叉验证时可选参数组合不是很合适。"
   ]
  }
 ],
 "metadata": {
  "kernelspec": {
   "display_name": "Python 2",
   "language": "python",
   "name": "python2"
<<<<<<< HEAD
=======
  },
  "language_info": {
   "codemirror_mode": {
    "name": "ipython",
    "version": 2
   },
   "file_extension": ".py",
   "mimetype": "text/x-python",
   "name": "python",
   "nbconvert_exporter": "python",
   "pygments_lexer": "ipython2",
   "version": "2.7.14"
>>>>>>> 8ea94c18f1eb76e82ce5e9a5e5c09ecff13a9c17
  }
 },
 "nbformat": 4,
 "nbformat_minor": 1
}
