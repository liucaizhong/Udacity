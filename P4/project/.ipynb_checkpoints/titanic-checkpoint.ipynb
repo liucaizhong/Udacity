{
 "cells": [
  {
   "cell_type": "markdown",
   "metadata": {},
   "source": [
    "# 对泰坦尼克号数据的分析"
   ]
  },
  {
   "cell_type": "markdown",
   "metadata": {
    "collapsed": true
   },
   "source": [
    "## Question\n",
    ">有哪些因素会让船上的人生还率更高？\n",
    "* 生还率是否与男女比例相关\n",
    "* 生还率与年龄分布的关系\n",
    "* 生还率与船舱等级，或者资产的关联"
   ]
  },
  {
   "cell_type": "code",
   "execution_count": 13,
   "metadata": {
    "collapsed": false
   },
   "outputs": [
    {
     "name": "stdout",
     "output_type": "stream",
     "text": [
      "891\n"
     ]
    },
    {
     "data": {
      "text/html": [
       "<div>\n",
       "<table border=\"1\" class=\"dataframe\">\n",
       "  <thead>\n",
       "    <tr style=\"text-align: right;\">\n",
       "      <th></th>\n",
       "      <th>PassengerId</th>\n",
       "      <th>Survived</th>\n",
       "      <th>Pclass</th>\n",
       "      <th>Name</th>\n",
       "      <th>Sex</th>\n",
       "      <th>Age</th>\n",
       "      <th>SibSp</th>\n",
       "      <th>Parch</th>\n",
       "      <th>Ticket</th>\n",
       "      <th>Fare</th>\n",
       "      <th>Cabin</th>\n",
       "      <th>Embarked</th>\n",
       "    </tr>\n",
       "  </thead>\n",
       "  <tbody>\n",
       "    <tr>\n",
       "      <th>0</th>\n",
       "      <td>1</td>\n",
       "      <td>0</td>\n",
       "      <td>3</td>\n",
       "      <td>Braund, Mr. Owen Harris</td>\n",
       "      <td>male</td>\n",
       "      <td>22.0</td>\n",
       "      <td>1</td>\n",
       "      <td>0</td>\n",
       "      <td>A/5 21171</td>\n",
       "      <td>7.2500</td>\n",
       "      <td>NaN</td>\n",
       "      <td>S</td>\n",
       "    </tr>\n",
       "    <tr>\n",
       "      <th>1</th>\n",
       "      <td>2</td>\n",
       "      <td>1</td>\n",
       "      <td>1</td>\n",
       "      <td>Cumings, Mrs. John Bradley (Florence Briggs Th...</td>\n",
       "      <td>female</td>\n",
       "      <td>38.0</td>\n",
       "      <td>1</td>\n",
       "      <td>0</td>\n",
       "      <td>PC 17599</td>\n",
       "      <td>71.2833</td>\n",
       "      <td>C85</td>\n",
       "      <td>C</td>\n",
       "    </tr>\n",
       "    <tr>\n",
       "      <th>2</th>\n",
       "      <td>3</td>\n",
       "      <td>1</td>\n",
       "      <td>3</td>\n",
       "      <td>Heikkinen, Miss. Laina</td>\n",
       "      <td>female</td>\n",
       "      <td>26.0</td>\n",
       "      <td>0</td>\n",
       "      <td>0</td>\n",
       "      <td>STON/O2. 3101282</td>\n",
       "      <td>7.9250</td>\n",
       "      <td>NaN</td>\n",
       "      <td>S</td>\n",
       "    </tr>\n",
       "    <tr>\n",
       "      <th>3</th>\n",
       "      <td>4</td>\n",
       "      <td>1</td>\n",
       "      <td>1</td>\n",
       "      <td>Futrelle, Mrs. Jacques Heath (Lily May Peel)</td>\n",
       "      <td>female</td>\n",
       "      <td>35.0</td>\n",
       "      <td>1</td>\n",
       "      <td>0</td>\n",
       "      <td>113803</td>\n",
       "      <td>53.1000</td>\n",
       "      <td>C123</td>\n",
       "      <td>S</td>\n",
       "    </tr>\n",
       "    <tr>\n",
       "      <th>4</th>\n",
       "      <td>5</td>\n",
       "      <td>0</td>\n",
       "      <td>3</td>\n",
       "      <td>Allen, Mr. William Henry</td>\n",
       "      <td>male</td>\n",
       "      <td>35.0</td>\n",
       "      <td>0</td>\n",
       "      <td>0</td>\n",
       "      <td>373450</td>\n",
       "      <td>8.0500</td>\n",
       "      <td>NaN</td>\n",
       "      <td>S</td>\n",
       "    </tr>\n",
       "  </tbody>\n",
       "</table>\n",
       "</div>"
      ],
      "text/plain": [
       "   PassengerId  Survived  Pclass  \\\n",
       "0            1         0       3   \n",
       "1            2         1       1   \n",
       "2            3         1       3   \n",
       "3            4         1       1   \n",
       "4            5         0       3   \n",
       "\n",
       "                                                Name     Sex   Age  SibSp  \\\n",
       "0                            Braund, Mr. Owen Harris    male  22.0      1   \n",
       "1  Cumings, Mrs. John Bradley (Florence Briggs Th...  female  38.0      1   \n",
       "2                             Heikkinen, Miss. Laina  female  26.0      0   \n",
       "3       Futrelle, Mrs. Jacques Heath (Lily May Peel)  female  35.0      1   \n",
       "4                           Allen, Mr. William Henry    male  35.0      0   \n",
       "\n",
       "   Parch            Ticket     Fare Cabin Embarked  \n",
       "0      0         A/5 21171   7.2500   NaN        S  \n",
       "1      0          PC 17599  71.2833   C85        C  \n",
       "2      0  STON/O2. 3101282   7.9250   NaN        S  \n",
       "3      0            113803  53.1000  C123        S  \n",
       "4      0            373450   8.0500   NaN        S  "
      ]
     },
     "execution_count": 13,
     "metadata": {},
     "output_type": "execute_result"
    }
   ],
   "source": [
    "# 导入titanic-data.csv\n",
    "import pandas as pd\n",
    "titanic_df = pd.read_csv('titanic-data.csv')\n",
    "print(len(titanic_df))\n",
    "titanic_df.head()"
   ]
  },
  {
   "cell_type": "code",
   "execution_count": 12,
   "metadata": {
    "collapsed": false
   },
   "outputs": [
    {
     "name": "stdout",
     "output_type": "stream",
     "text": [
      "342\n",
      "549\n"
     ]
    }
   ],
   "source": [
    "# 划分生还者和死亡者的信息到两个df\n",
    "survivor_df = titanic_df[titanic_df['Survived'] > 0]\n",
    "dead_df = titanic_df[titanic_df['Survived'] == 0]\n",
    "print(len(survivor_df))\n",
    "print(len(dead_df))"
   ]
  },
  {
   "cell_type": "markdown",
   "metadata": {},
   "source": [
    "## 生还率是否与男女比例相关?"
   ]
  },
  {
   "cell_type": "code",
   "execution_count": 18,
   "metadata": {
    "collapsed": false
   },
   "outputs": [
    {
     "name": "stdout",
     "output_type": "stream",
     "text": [
      "109\n",
      "233\n",
      "468\n",
      "81\n"
     ]
    }
   ],
   "source": [
    "# 分别计算生还者和死亡者的男女比例\n",
    "male_survivor = survivor_df[survivor_df['Sex'] == 'male']\n",
    "female_survivor = survivor_df[survivor_df['Sex'] == 'female']\n",
    "male_dead = dead_df[dead_df['Sex'] == 'male']\n",
    "female_dead = dead_df[dead_df['Sex'] == 'female']\n",
    "print(len(male_survivor))\n",
    "print(len(female_survivor))\n",
    "print(len(male_dead))\n",
    "print(len(female_dead))"
   ]
  },
  {
   "cell_type": "code",
   "execution_count": 26,
   "metadata": {
    "collapsed": false
   },
   "outputs": [
    {
     "data": {
      "image/png": "[encoded data removed]",
      "text/plain": [
       "<matplotlib.figure.Figure at 0x1840c961b00>"
      ]
     },
     "metadata": {},
     "output_type": "display_data"
    }
   ],
   "source": [
    "# 绘制直方图\n",
    "%matplotlib inline\n",
    "import matplotlib.pyplot as plt\n",
    "import seaborn as sns\n",
    "\n",
    "labels = 'Male Survivor', 'Male Dead', 'Female Survivor', 'Female Dead'\n",
    "sizes = [len(male_survivor), len(male_dead), len(female_survivor), len(female_dead)]\n",
    "explode = (0.05, 0.05, 0, 0)\n",
    "\n",
    "fig1, ax1 = plt.subplots()\n",
    "ax1.pie(sizes, explode=explode, labels=labels, autopct='%1.1f%%',\n",
    "        shadow=True, startangle=90)\n",
    "ax1.axis('equal')\n",
    "\n",
    "plt.show()"
   ]
  },
  {
   "cell_type": "markdown",
   "metadata": {},
   "source": [
    "## 女性比男性更容易生还？\n",
    "* 虽然表面上看，男性乘客的生还率12.2%相较女性乘客的生还率9.1%略高，但是与总体的男女比例相比，男性生还者仅占总体男性的1：4.3，而女性生还者与总体女性的比例为1：2.88。因此，在泰坦尼克沉船事件中更高比例的女性获救。\n",
    "* 你也许会认为在沉船事件中，女性相较男性更容易生还，但是事实上，这仅仅是针对泰坦尼克号而言。由于缺少足够多的样本数据，我们无法知晓对于大多数的沉船事件，生还率与男女性别是否有一定的关联，因此也无法推测女性就一定比男性更容易生还。"
   ]
  },
  {
   "cell_type": "markdown",
   "metadata": {},
   "source": [
    "## 生还者与死亡者的年龄分布"
   ]
  },
  {
   "cell_type": "code",
   "execution_count": 33,
   "metadata": {
    "collapsed": false
   },
   "outputs": [
    {
     "name": "stdout",
     "output_type": "stream",
     "text": [
      "290\n",
      "424\n"
     ]
    }
   ],
   "source": [
    "# 去除数据中年龄为空的记录\n",
    "survivor_age_valid = survivor_df[survivor_df['Age'].notnull()]\n",
    "dead_age_valid = dead_df[dead_df['Age'].notnull()]\n",
    "print(len(survivor_age_valid))\n",
    "print(len(dead_age_valid))"
   ]
  },
  {
   "cell_type": "code",
   "execution_count": 47,
   "metadata": {
    "collapsed": false
   },
   "outputs": [
    {
     "data": {
      "text/plain": [
       "(array([  26.,   59.,  129.,   93.,   57.,   33.,   17.,   10.]),\n",
       " array([  1.   ,  10.125,  19.25 ,  28.375,  37.5  ,  46.625,  55.75 ,\n",
       "         64.875,  74.   ]),\n",
       " <a list of 8 Patch objects>)"
      ]
     },
     "execution_count": 47,
     "metadata": {},
     "output_type": "execute_result"
    },
    {
     "data": {
      "image/png": "[encoded data removed]",
      "text/plain": [
       "<matplotlib.figure.Figure at 0x1840dd4fa90>"
      ]
     },
     "metadata": {},
     "output_type": "display_data"
    }
   ],
   "source": [
    "# 绘制生还者与死亡者的年龄分布直方图\n",
    "n_bins = 8\n",
    "\n",
    "x_survived = survivor_age_valid['Age']\n",
    "\n",
    "x_dead = dead_age_valid['Age']\n",
    "\n",
    "fig, axs = plt.subplots(1, 2, sharex=True, sharey=True)\n",
    "axs[0].hist(x_survived, bins=n_bins)\n",
    "axs[1].hist(x_dead, bins=n_bins)"
   ]
  },
  {
   "cell_type": "markdown",
   "metadata": {},
   "source": [
    "## 儿童优先？\n",
    "* 从生还者与死亡者的年龄分布直方图可以看到，10岁以下的生还者在人数上高于其所在年龄段的死亡者人数。而20岁至40岁年龄段的生还者人数则远远少于同年龄段的死亡者人数。\n",
    "* 由此可以得出以下的推断：\n",
    "> * 儿童的救援等级最高\n",
    "> * 青壮年更愿意将生还的机会留给儿童，这也导致了这个年龄段的生还率偏低"
   ]
  },
  {
   "cell_type": "markdown",
   "metadata": {},
   "source": [
    "## 船舱等级与平均资产正相关？"
   ]
  },
  {
   "cell_type": "code",
   "execution_count": 59,
   "metadata": {
    "collapsed": false
   },
   "outputs": [
    {
     "data": {
      "text/html": [
       "<div>\n",
       "<table border=\"1\" class=\"dataframe\">\n",
       "  <thead>\n",
       "    <tr style=\"text-align: right;\">\n",
       "      <th></th>\n",
       "      <th>Pclass</th>\n",
       "      <th>PassengerId</th>\n",
       "      <th>Survived</th>\n",
       "      <th>Age</th>\n",
       "      <th>SibSp</th>\n",
       "      <th>Parch</th>\n",
       "      <th>Fare</th>\n",
       "    </tr>\n",
       "  </thead>\n",
       "  <tbody>\n",
       "    <tr>\n",
       "      <th>0</th>\n",
       "      <td>1</td>\n",
       "      <td>461.597222</td>\n",
       "      <td>0.629630</td>\n",
       "      <td>38.233441</td>\n",
       "      <td>0.416667</td>\n",
       "      <td>0.356481</td>\n",
       "      <td>84.154687</td>\n",
       "    </tr>\n",
       "    <tr>\n",
       "      <th>1</th>\n",
       "      <td>2</td>\n",
       "      <td>445.956522</td>\n",
       "      <td>0.472826</td>\n",
       "      <td>29.877630</td>\n",
       "      <td>0.402174</td>\n",
       "      <td>0.380435</td>\n",
       "      <td>20.662183</td>\n",
       "    </tr>\n",
       "    <tr>\n",
       "      <th>2</th>\n",
       "      <td>3</td>\n",
       "      <td>439.154786</td>\n",
       "      <td>0.242363</td>\n",
       "      <td>25.140620</td>\n",
       "      <td>0.615071</td>\n",
       "      <td>0.393075</td>\n",
       "      <td>13.675550</td>\n",
       "    </tr>\n",
       "  </tbody>\n",
       "</table>\n",
       "</div>"
      ],
      "text/plain": [
       "   Pclass  PassengerId  Survived        Age     SibSp     Parch       Fare\n",
       "0       1   461.597222  0.629630  38.233441  0.416667  0.356481  84.154687\n",
       "1       2   445.956522  0.472826  29.877630  0.402174  0.380435  20.662183\n",
       "2       3   439.154786  0.242363  25.140620  0.615071  0.393075  13.675550"
      ]
     },
     "execution_count": 59,
     "metadata": {},
     "output_type": "execute_result"
    }
   ],
   "source": [
    "# 计算各个船舱等级的平均资产\n",
    "fare_avg = titanic_df.groupby(['Pclass'], as_index=False).mean()\n",
    "fare_avg"
   ]
  },
  {
   "cell_type": "code",
   "execution_count": 60,
   "metadata": {
    "collapsed": false
   },
   "outputs": [
    {
     "data": {
      "text/plain": [
       "[<matplotlib.lines.Line2D at 0x1840f28cb38>]"
      ]
     },
     "execution_count": 60,
     "metadata": {},
     "output_type": "execute_result"
    },
    {
     "data": {
      "image/png": "[encoded data removed]",
      "text/plain": [
       "<matplotlib.figure.Figure at 0x1840e0220b8>"
      ]
     },
     "metadata": {},
     "output_type": "display_data"
    }
   ],
   "source": [
    "plt.plot(fare_avg['Pclass'], fare_avg['Fare'])"
   ]
  },
  {
   "cell_type": "markdown",
   "metadata": {},
   "source": [
    "* 由折现图可以清楚的发现，一等舱乘客的平均资产 > 二等舱乘客的平均资产 > 三等舱乘客的平均资产\n",
    "* 船舱等级与平均资产正相关"
   ]
  },
  {
   "cell_type": "markdown",
   "metadata": {},
   "source": [
    "## 猜想：船舱等级越高，生还率越高"
   ]
  },
  {
   "cell_type": "code",
   "execution_count": 63,
   "metadata": {
    "collapsed": false
   },
   "outputs": [
    {
     "data": {
      "text/plain": [
       "(array([  80.,   97.,  372.]),\n",
       " array([ 1.        ,  1.66666667,  2.33333333,  3.        ]),\n",
       " <a list of 3 Patch objects>)"
      ]
     },
     "execution_count": 63,
     "metadata": {},
     "output_type": "execute_result"
    },
    {
     "data": {
      "image/png": "[encoded data removed]",
      "text/plain": [
       "<matplotlib.figure.Figure at 0x1840f405f60>"
      ]
     },
     "metadata": {},
     "output_type": "display_data"
    }
   ],
   "source": [
    "# 绘制生还者与死亡者所属船舱的直方图\n",
    "n_bins = 3\n",
    "\n",
    "x_survived = survivor_df['Pclass']\n",
    "\n",
    "x_dead = dead_df['Pclass']\n",
    "\n",
    "fig, axs = plt.subplots(1, 2, sharex=True, sharey=True)\n",
    "axs[0].hist(x_survived, bins=n_bins)\n",
    "axs[1].hist(x_dead, bins=n_bins)"
   ]
  },
  {
   "cell_type": "markdown",
   "metadata": {},
   "source": [
    "## 验证猜想：\n",
    "* 由上述直方图，可以清楚地发现，一等舱的生还者人数略多于其死亡者，二等舱生还者人数与死亡者人数基本持平，而三等舱死亡者人数则远远大于生还者。\n",
    "* 三等舱所在的乘客为泰坦尼克号事件的主要死亡来源。"
   ]
  },
  {
   "cell_type": "markdown",
   "metadata": {},
   "source": [
    "## 结论与预测\n",
    "> 基于上述对泰坦尼克号事件的数据分析，得出以下推断：\n",
    "* 妇孺生还率较高，更容易获救\n",
    "* 船舱级别越高，生还率越高\n",
    "* 持有资产越多的乘客更倾向于购买越高级别的船票，因而也更容易获救\n",
    "\n",
    "> 因为样本数量过少，所以得出的以下预测仅仅是实验性的，还需得到更多的样本方可验证其准确性：\n",
    "* 在大多数的沉船事件中，妇孺会被优先对待，更容易得到生还的机会\n",
    "* 船舱级别越高，预示着在发生沉船时最先被安排逃生，生还率更高"
   ]
  },
  {
   "cell_type": "markdown",
   "metadata": {},
   "source": [
    "## 分享我的研究成果\n",
    "### 对于泰坦尼克号事件，我感兴趣的是哪些因素会使乘客更容易生还，即生还率与哪些因素相关。\n",
    "* 我想搞清楚生还率是否与性别有关。于是我分别计算了男性生还者与死亡者人数，以及女性生还者与死亡者人数，并绘制了饼图，来直观地展现它们的比例。从而清晰地发现，在泰坦尼克号事件中，女性相较于男性的生还率更高。\n",
    "* 我猜想年龄是造成生还率高低的一个重要因素。于是分别绘制了生还者和死亡者的年龄分布直方图，并对两张直方图做了对比，推断出儿童的生还率高，而青壮年的生还率较低。\n",
    "* 我认为船舱等级很可能也是造成生还率不同的一个重要原因。同样我也通过分别绘制生还者和死亡者所属船舱的直方图来做对比，发现三等舱的乘客生还率非常低，远远低于一、二等舱的生还率。由此猜测，高级别船舱的乘客被安排逃生的优先级更高。\n"
   ]
  }
 ],
 "metadata": {
  "kernelspec": {
   "display_name": "Python 3",
   "language": "python",
   "name": "python3"
  },
  "language_info": {
   "codemirror_mode": {
    "name": "ipython",
    "version": 3
   },
   "file_extension": ".py",
   "mimetype": "text/x-python",
   "name": "python",
   "nbconvert_exporter": "python",
   "pygments_lexer": "ipython3",
   "version": "3.6.0"
  }
 },
 "nbformat": 4,
 "nbformat_minor": 2
}
